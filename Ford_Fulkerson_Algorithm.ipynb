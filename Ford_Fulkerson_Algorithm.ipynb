{
  "nbformat": 4,
  "nbformat_minor": 0,
  "metadata": {
    "colab": {
      "provenance": [],
      "authorship_tag": "ABX9TyN23hngbJNICZpdVH5tl3TW",
      "include_colab_link": true
    },
    "kernelspec": {
      "name": "python3",
      "display_name": "Python 3"
    },
    "language_info": {
      "name": "python"
    }
  },
  "cells": [
    {
      "cell_type": "markdown",
      "metadata": {
        "id": "view-in-github",
        "colab_type": "text"
      },
      "source": [
        "<a href=\"https://colab.research.google.com/github/Halane10/Sport-Team-System/blob/main/Ford_Fulkerson_Algorithm.ipynb\" target=\"_parent\"><img src=\"https://colab.research.google.com/assets/colab-badge.svg\" alt=\"Open In Colab\"/></a>"
      ]
    },
    {
      "cell_type": "code",
      "execution_count": null,
      "metadata": {
        "id": "csToFjepWRno"
      },
      "outputs": [],
      "source": []
    },
    {
      "cell_type": "code",
      "source": [
        "from collections import defaultdict\n",
        "\n",
        "class Graph:\n",
        "    def __init__(self, vertices):\n",
        "        self.V = vertices\n",
        "        self.graph = [[0] * vertices for _ in range(vertices)]\n",
        "\n",
        "    def add_edge(self, u, v, w):\n",
        "        self.graph[u][v] = w\n",
        "\n",
        "    def _dfs(self, s, t, visited, path):\n",
        "        visited[s] = True\n",
        "        if s == t:\n",
        "            return True\n",
        "        for i in range(self.V):\n",
        "            if not visited[i] and self.graph[s][i] > 0:\n",
        "                path[i] = s\n",
        "                if self._dfs(i, t, visited, path):\n",
        "                    return True\n",
        "        return False\n",
        "\n",
        "    def ford_fulkerson(self, source, sink):\n",
        "        parent = [-1] * self.V\n",
        "        max_flow = 0\n",
        "\n",
        "        while True:\n",
        "            visited = [False] * self.V\n",
        "            if not self._dfs(source, sink, visited, parent):\n",
        "                break\n",
        "\n",
        "            path_flow = float('inf')\n",
        "            s = sink\n",
        "            while s != source:\n",
        "                path_flow = min(path_flow, self.graph[parent[s]][s])\n",
        "                s = parent[s]\n",
        "\n",
        "            v = sink\n",
        "            while v != source:\n",
        "                u = parent[v]\n",
        "                self.graph[u][v] -= path_flow\n",
        "                self.graph[v][u] += path_flow\n",
        "                v = parent[v]\n",
        "\n",
        "            max_flow += path_flow\n",
        "\n",
        "        return max_flow\n",
        "\n",
        "# Example\n",
        "if __name__ == \"__main__\":\n",
        "    g = Graph(6)\n",
        "    g.add_edge(0, 1, 16)\n",
        "    g.add_edge(0, 2, 13)\n",
        "    g.add_edge(1, 2, 10)\n",
        "    g.add_edge(1, 3, 12)\n",
        "    g.add_edge(2, 1, 4)\n",
        "    g.add_edge(2, 4, 14)\n",
        "    g.add_edge(3, 2, 9)\n",
        "    g.add_edge(3, 5, 20)\n",
        "    g.add_edge(4, 3, 7)\n",
        "    g.add_edge(4, 5, 4)\n",
        "\n",
        "    source, sink = 0, 5\n",
        "    print(\"Maximum Flow:\", g.ford_fulkerson(source, sink))\n"
      ],
      "metadata": {
        "colab": {
          "base_uri": "https://localhost:8080/"
        },
        "id": "6JXgFMHlXADg",
        "outputId": "3f855147-ffa4-4b4f-a44e-ad06aaba0a9c"
      },
      "execution_count": 1,
      "outputs": [
        {
          "output_type": "stream",
          "name": "stdout",
          "text": [
            "Maximum Flow: 23\n"
          ]
        }
      ]
    }
  ]
}